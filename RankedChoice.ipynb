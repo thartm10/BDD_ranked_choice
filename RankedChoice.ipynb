{
  "nbformat": 4,
  "nbformat_minor": 0,
  "metadata": {
    "colab": {
      "provenance": [],
      "collapsed_sections": [],
      "include_colab_link": true
    },
    "kernelspec": {
      "name": "python3",
      "display_name": "Python 3"
    },
    "language_info": {
      "name": "python"
    }
  },
  "cells": [
    {
      "cell_type": "markdown",
      "metadata": {
        "id": "view-in-github",
        "colab_type": "text"
      },
      "source": [
        "<a href=\"https://colab.research.google.com/github/thartm10/BDD_ranked_choice/blob/main/RankedChoice.ipynb\" target=\"_parent\"><img src=\"https://colab.research.google.com/assets/colab-badge.svg\" alt=\"Open In Colab\"/></a>"
      ]
    },
    {
      "cell_type": "code",
      "source": [
        "from collections import deque\n",
        "import pandas as pd\n",
        "import statistics as stats\n",
        "import random\n",
        "\n",
        "# #url = 'https://raw.githubusercontent.com/thartm10/BDD_ranked_choice/main/patient_preference_list.csv'\n",
        "# url = 'https://raw.githubusercontent.com/thartm10/BDD_ranked_choice/main/patient_preference_list_large.csv'\n",
        "# df = pd.read_csv(url)\n",
        "\n",
        "def convert_to_df(file): #Reads in csv file and converts it to a dataframe \n",
        "    return pd.read_csv(file)\n",
        "\n",
        "def get_capacity_and_demand(data): #Get patient and doctor numbers from the number of rows and columns from the csv file; get doctor capacity by rounding up the number patients for doctor\n",
        "    doctorNum, patientNum = data.shape\n",
        "    doctorCapacity = (patientNum // doctorNum) + 1\n",
        "    return doctorCapacity, patientNum\n",
        "\n",
        "\n",
        "\n",
        "def greedy_rank(data, doctCap, patNum): #Tries to add patients to primary choice in random order, compares the existing patients to see if they ranked the doctor higher and either replaces the exisiting patient or moves on to the next doctor on the list\n",
        "    df = data\n",
        "    patientNum = patNum\n",
        "    doctorCapacity = doctCap\n",
        "\n",
        "\n",
        "    matches = {} #Maps doctors to patients they have been tentatively matched with \n",
        "    for doctor in df.index: #Initializes the matches with empty sets \n",
        "        matches[doctor] = set() \n",
        "    q = deque() #Queue for the patients before they get assinged to a doctor \n",
        "\n",
        "    patientList = list(df) #Gets list of patients from the column names \n",
        "    random.shuffle(patientList) #Randomizes the list order for fairness\n",
        "    for patient in patientList: #Adds each patient in the randomized list to a queue\n",
        "        q.append(patient)\n",
        "\n",
        "    while len(q) != 0: #Until there are no patients left \n",
        "        tentPatient = q.popleft() #Get the first patient in the list\n",
        "        noMatch = True #Indicates wether a match has been found to end the loop\n",
        "        index = 0 #Keeps track of which doctor on the preference list the patient is trying to be matched with\n",
        "        while(noMatch):\n",
        "            tentDoc = df[tentPatient][index] #Get the doctor that's at the index in the patient's list\n",
        "            #if len(matches[tentDoc]) < doctorCapacities[tentDoc]:\n",
        "            if len(matches[tentDoc]) < doctorCapacity: #If the doctor has spots open add patient to the list\n",
        "                matches[tentDoc].add(tentPatient)\n",
        "                noMatch = False\n",
        "            else: #TO-DO\n",
        "                for compareMatch in matches[tentDoc]: #If the current patient ranks the doctor higher than an exisiting match, replace the exisisting match\n",
        "                #if index == patients[compareMatch].index(tentDoc):\n",
        "                    if index < list(df[compareMatch]).index(tentDoc):\n",
        "                        matches[tentDoc].remove(compareMatch)\n",
        "                        q.append(compareMatch) #Add the existing patient back to the end of the queue\n",
        "                        matches[tentDoc].add(tentPatient)\n",
        "                        noMatch = False\n",
        "                        break\n",
        "            index += 1 #If a match hasn't been found go on to the next doctor on the list\n",
        "    return matches\n",
        "\n",
        "def calcCost(matches, patients): #Goes through the matches and totals up where each patient ranked their respective doctor, returns both the average and median ranking\n",
        "    cost = 0\n",
        "    costList = []\n",
        "    for doctor in matches:\n",
        "        for patient in matches[doctor]:\n",
        "            cost += list(patients[patient]).index(doctor)\n",
        "            costList.append(list(patients[patient]).index(doctor))\n",
        "    return (cost,stats.median(costList))\n",
        "\n",
        "  # print(matches)\n",
        "  # print(calcCost(matches,df)[0]/patientNum)\n",
        "  # print(calcCost(matches,df)[1])\n"
      ],
      "metadata": {
        "id": "Au6du8UcKBUQ"
      },
      "execution_count": 56,
      "outputs": []
    }
  ]
}