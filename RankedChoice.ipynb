{
 "cells": [
  {
   "cell_type": "code",
   "execution_count": 14,
   "metadata": {
    "id": "Au6du8UcKBUQ"
   },
   "outputs": [],
   "source": [
    "from collections import deque\n",
    "import pandas as pd\n",
    "import statistics as stats\n",
    "import random\n",
    "\n",
    "# #url = 'https://raw.githubusercontent.com/thartm10/BDD_ranked_choice/main/patient_preference_list.csv'\n",
    "# url = 'https://raw.githubusercontent.com/thartm10/BDD_ranked_choice/main/patient_preference_list_large.csv'\n",
    "# df = pd.read_csv(url)\n",
    "\n",
    "# doctorNum, patientNum = df.shape\n",
    "# doctorCapacity = (patientNum // doctorNum) + 1\n",
    "\n",
    "def convert_to_df(file):\n",
    "    return pd.read_csv(file)\n",
    "\n",
    "def get_capacity_and_demand(data):\n",
    "    doctorNum, patientNum = data.shape\n",
    "    doctorCapacity = (patientNum // doctorNum) + 1\n",
    "    return doctorCapacity, patientNum\n",
    "\n",
    "\n",
    "\n",
    "def greedy_rank(data, doctCap, patNum):\n",
    "    df = data\n",
    "    patientNum = patNum\n",
    "    doctorCapacity = doctCap\n",
    "\n",
    "\n",
    "    matches = {}\n",
    "    for doctor in df.index:\n",
    "        matches[doctor] = set() \n",
    "    q = deque()\n",
    "\n",
    "    patientList = list(df)\n",
    "    random.shuffle(patientList)\n",
    "    for patient in patientList:\n",
    "        q.append(patient)\n",
    "\n",
    "    while len(q) != 0:\n",
    "        tentPatient = q.popleft()\n",
    "        noMatch = True\n",
    "        index = 0\n",
    "        while(noMatch):\n",
    "            tentDoc = df[tentPatient][index]\n",
    "            #if len(matches[tentDoc]) < doctorCapacities[tentDoc]:\n",
    "            if len(matches[tentDoc]) < doctorCapacity:\n",
    "                matches[tentDoc].add(tentPatient)\n",
    "                noMatch = False\n",
    "            else: #TO-DO\n",
    "                for compareMatch in matches[tentDoc]:\n",
    "                #if index == patients[compareMatch].index(tentDoc):\n",
    "                    if index < list(df[compareMatch]).index(tentDoc):\n",
    "                        matches[tentDoc].remove(compareMatch)\n",
    "                        q.append(compareMatch)\n",
    "                        matches[tentDoc].add(tentPatient)\n",
    "                        noMatch = False\n",
    "                        break\n",
    "            index += 1\n",
    "    return matches\n",
    "\n",
    "def calcCost(matches, patients):\n",
    "    cost = 0\n",
    "    costList = []\n",
    "    for doctor in matches:\n",
    "        for patient in matches[doctor]:\n",
    "            cost += list(patients[patient]).index(doctor)\n",
    "            costList.append(list(patients[patient]).index(doctor))\n",
    "    return (cost,stats.median(costList))\n",
    "\n",
    "  # print(matches)\n",
    "  # print(calcCost(matches,df)[0]/patientNum)\n",
    "  # print(calcCost(matches,df)[1])"
   ]
  },
  {
   "cell_type": "code",
   "execution_count": null,
   "metadata": {},
   "outputs": [],
   "source": []
  },
  {
   "cell_type": "code",
   "execution_count": null,
   "metadata": {},
   "outputs": [],
   "source": []
  }
 ],
 "metadata": {
  "colab": {
   "collapsed_sections": [],
   "provenance": []
  },
  "kernelspec": {
   "display_name": "Python 3",
   "language": "python",
   "name": "python3"
  },
  "language_info": {
   "codemirror_mode": {
    "name": "ipython",
    "version": 3
   },
   "file_extension": ".py",
   "mimetype": "text/x-python",
   "name": "python",
   "nbconvert_exporter": "python",
   "pygments_lexer": "ipython3",
   "version": "3.8.8"
  }
 },
 "nbformat": 4,
 "nbformat_minor": 1
}
