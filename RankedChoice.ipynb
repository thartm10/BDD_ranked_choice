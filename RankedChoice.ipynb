{
 "cells": [
  {
   "cell_type": "markdown",
   "metadata": {
    "colab_type": "text",
    "id": "view-in-github"
   },
   "source": [
    "<a href=\"https://colab.research.google.com/github/thartm10/BDD_ranked_choice/blob/main/RankedChoice.ipynb\" target=\"_parent\"><img src=\"https://colab.research.google.com/assets/colab-badge.svg\" alt=\"Open In Colab\"/></a>"
   ]
  },
  {
   "cell_type": "code",
   "execution_count": 1,
   "metadata": {
    "id": "Au6du8UcKBUQ"
   },
   "outputs": [],
   "source": [
    "from collections import deque\n",
    "import pandas as pd\n",
    "import statistics as stats\n",
    "import random\n",
    "\n",
    "# #url = 'https://raw.githubusercontent.com/thartm10/BDD_ranked_choice/main/patient_preference_list.csv'\n",
    "# url = 'https://raw.githubusercontent.com/thartm10/BDD_ranked_choice/main/patient_preference_list_large.csv'\n",
    "\n",
    "def convert_to_df(file):\n",
    "    \"\"\"convert_to_df takes a comma-separated values document (.csv file) and converts it to a pandas DataFrame.\n",
    "    IN: .csv file\n",
    "    OUT: DataFrame conversion of .csv file\"\"\"\n",
    "    return pd.read_csv(file)\n",
    "\n",
    "def get_capacity_and_demand(data): \n",
    "    \"\"\"get_capacity_and_demand returns the number of patients and the capacity for each doctor. The total number of patients \n",
    "    is the second dimensions of the patient preference DataFrame, and the capacity for each doctor is uniform and is \n",
    "    equal to ceiling(number of patients / number of doctors).\n",
    "    ASSUMPTIONS: patient preference DataFrame is K (rows) by N (columns) table, where K is the number of doctors, N\n",
    "    is the number of patients.\n",
    "    IN: patient preference DataFramne\n",
    "    OUT: 2-tuple -- capacity for each doctor (integer), total number of patients (integer)\"\"\"\n",
    "    doctorNum, patientNum = data.shape # sets dimensions of DataFrame to number of doctors and patients, respectively\n",
    "    doctorCapacity = (patientNum // doctorNum) + 1 # ceiling(number of patients / number of doctors)\n",
    "    return (doctorCapacity, patientNum)\n",
    "\n",
    "\n",
    "\n",
    "def greedy_rank(data, doctCap, patNum): \n",
    "    \"\"\"greedy_rank is a greedy algorithm for matching patients to doctors. It approaches the matching problem \n",
    "    by adding patients to primary choice in random order, comparing the existing patients to see if they ranked the doctor higher,\n",
    "    and either replacing the exisiting patient or moving on to the next doctor on the list.\n",
    "    IN: patient preference DataFrame, the capacity of each doctor (integer), the number of patients (integer)\n",
    "    OUT: dictionary of doctors with sets of patients associated with each doctor\"\"\"\n",
    "    \n",
    "    df = data\n",
    "    patientNum = patNum\n",
    "    doctorCapacity = doctCap\n",
    "\n",
    "\n",
    "    matches = {} # Maps doctors to patients they have been tentatively matched with \n",
    "    for doctor in df.index: # Initializes the matches with empty sets \n",
    "        matches[doctor] = set() \n",
    "    q = deque() # Queue for the patients before they get assigned to a doctor \n",
    "\n",
    "    patientList = list(df) # Gets list of patients from the column names \n",
    "    random.shuffle(patientList) # Randomizes the list order for fairness\n",
    "    for patient in patientList: # Adds each patient in the randomized list to a queue\n",
    "        q.append(patient)\n",
    "\n",
    "    while len(q) != 0: # Until there are no patients left \n",
    "        tentPatient = q.popleft() # Get the first patient in the list\n",
    "        noMatch = True # Indicates whether a match has been found to end the loop\n",
    "        index = 0 # Keeps track of which doctor on the preference list the patient is trying to be matched with\n",
    "        while(noMatch):\n",
    "            tentDoc = df[tentPatient][index] # Get the doctor that's at the index in the patient's list\n",
    "            if len(matches[tentDoc]) < doctorCapacity: # If the doctor has spots open add patient to the list\n",
    "                matches[tentDoc].add(tentPatient)\n",
    "                noMatch = False\n",
    "            else: \n",
    "                for compareMatch in matches[tentDoc]: # If the current patient ranks the doctor higher than an exisiting match, replace the exisisting match\n",
    "                    if index < list(df[compareMatch]).index(tentDoc):\n",
    "                        matches[tentDoc].remove(compareMatch)\n",
    "                        q.append(compareMatch) # Add the existing patient back to the end of the queue\n",
    "                        matches[tentDoc].add(tentPatient)\n",
    "                        noMatch = False\n",
    "                        break\n",
    "            index += 1 # If a match hasn't been found go on to the next doctor on the list\n",
    "    return matches\n",
    "\n",
    "def calcCost(matches, patients): \n",
    "    \"\"\"calcCost returns the total cost and the median cost per patient of the matching. It does this by parsing through\n",
    "    the matches data structure and summing the final costs associated with each matching.\n",
    "    IN: matches (dictionary with patients matched to doctors), patients (DataFrame with all patient preferences)\n",
    "    OUT: 2-tuple -- total cost, median cost per patient\"\"\"\n",
    "    cost = 0\n",
    "    costList = []\n",
    "    for doctor in matches:\n",
    "        for patient in matches[doctor]:\n",
    "            cost += list(patients[patient]).index(doctor) # the rank that the patient assigned to the doctor they got\n",
    "            costList.append(list(patients[patient]).index(doctor))\n",
    "    return (cost,stats.median(costList))\n",
    "\n"
   ]
  }
 ],
 "metadata": {
  "colab": {
   "collapsed_sections": [],
   "include_colab_link": true,
   "provenance": []
  },
  "kernelspec": {
   "display_name": "Python 3",
   "language": "python",
   "name": "python3"
  },
  "language_info": {
   "codemirror_mode": {
    "name": "ipython",
    "version": 3
   },
   "file_extension": ".py",
   "mimetype": "text/x-python",
   "name": "python",
   "nbconvert_exporter": "python",
   "pygments_lexer": "ipython3",
   "version": "3.8.8"
  }
 },
 "nbformat": 4,
 "nbformat_minor": 1
}
