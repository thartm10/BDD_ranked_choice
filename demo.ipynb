{
 "cells": [
  {
   "cell_type": "code",
   "execution_count": 1,
   "id": "e88f1dd2",
   "metadata": {},
   "outputs": [],
   "source": [
    "from ipynb.fs.full.RankedChoice import *\n",
    "import numpy as np"
   ]
  },
  {
   "cell_type": "code",
   "execution_count": 2,
   "id": "aa8caa5b",
   "metadata": {},
   "outputs": [],
   "source": [
    "file = 'https://raw.githubusercontent.com/thartm10/BDD_ranked_choice/main/patient_preference_list_large.csv'"
   ]
  },
  {
   "cell_type": "code",
   "execution_count": 3,
   "id": "bc717826",
   "metadata": {},
   "outputs": [],
   "source": [
    "df = convert_to_df(file)"
   ]
  },
  {
   "cell_type": "code",
   "execution_count": 4,
   "id": "c626dca3",
   "metadata": {},
   "outputs": [],
   "source": [
    "capacity_per_doctor, num_of_patients = get_capacity_and_demand(df)"
   ]
  },
  {
   "cell_type": "code",
   "execution_count": 7,
   "id": "c6886ece",
   "metadata": {},
   "outputs": [
    {
     "ename": "KeyboardInterrupt",
     "evalue": "",
     "output_type": "error",
     "traceback": [
      "\u001b[0;31m---------------------------------------------------------------------------\u001b[0m",
      "\u001b[0;31mKeyboardInterrupt\u001b[0m                         Traceback (most recent call last)",
      "\u001b[0;32m<ipython-input-7-7ee6661ce468>\u001b[0m in \u001b[0;36m<module>\u001b[0;34m\u001b[0m\n\u001b[0;32m----> 1\u001b[0;31m \u001b[0mmatched_prefs\u001b[0m  \u001b[0;34m=\u001b[0m \u001b[0mgreedy_rank\u001b[0m\u001b[0;34m(\u001b[0m\u001b[0mdf\u001b[0m\u001b[0;34m,\u001b[0m \u001b[0mcapacity_per_doctor\u001b[0m\u001b[0;34m,\u001b[0m \u001b[0mnum_of_patients\u001b[0m\u001b[0;34m)\u001b[0m\u001b[0;34m\u001b[0m\u001b[0;34m\u001b[0m\u001b[0m\n\u001b[0m",
      "\u001b[0;32m~/Documents/JOHNS-HOPKINS/3_1FA22/biomedical-data-design/BDD_ranked_choice-main/RankedChoice.ipynb\u001b[0m in \u001b[0;36mgreedy_rank\u001b[0;34m(data, doctCap, patNum)\u001b[0m\n\u001b[1;32m     65\u001b[0m     \u001b[0;34m\"\\n\"\u001b[0m\u001b[0;34m,\u001b[0m\u001b[0;34m\u001b[0m\u001b[0;34m\u001b[0m\u001b[0m\n\u001b[1;32m     66\u001b[0m     \u001b[0;34m\"    while len(q) != 0: #Until there are no patients left \\n\"\u001b[0m\u001b[0;34m,\u001b[0m\u001b[0;34m\u001b[0m\u001b[0;34m\u001b[0m\u001b[0m\n\u001b[0;32m---> 67\u001b[0;31m     \u001b[0;34m\"        tentPatient = q.popleft() #Get the first patient in the list\\n\"\u001b[0m\u001b[0;34m,\u001b[0m\u001b[0;34m\u001b[0m\u001b[0;34m\u001b[0m\u001b[0m\n\u001b[0m\u001b[1;32m     68\u001b[0m     \u001b[0;34m\"        noMatch = True #Indicates whether a match has been found to end the loop\\n\"\u001b[0m\u001b[0;34m,\u001b[0m\u001b[0;34m\u001b[0m\u001b[0;34m\u001b[0m\u001b[0m\n\u001b[1;32m     69\u001b[0m     \u001b[0;34m\"        index = 0 #Keeps track of which doctor on the preference list the patient is trying to be matched with\\n\"\u001b[0m\u001b[0;34m,\u001b[0m\u001b[0;34m\u001b[0m\u001b[0;34m\u001b[0m\u001b[0m\n",
      "\u001b[0;31mKeyboardInterrupt\u001b[0m: "
     ]
    }
   ],
   "source": [
    "matched_prefs  = greedy_rank(df, capacity_per_doctor, num_of_patients)"
   ]
  },
  {
   "cell_type": "code",
   "execution_count": null,
   "id": "d0f99474",
   "metadata": {},
   "outputs": [],
   "source": [
    "cost = calcCost(matched_prefs, df)[0]\n",
    "print(cost)"
   ]
  },
  {
   "cell_type": "markdown",
   "id": "3db951c9",
   "metadata": {},
   "source": []
  }
 ],
 "metadata": {
  "kernelspec": {
   "display_name": "Python 3",
   "language": "python",
   "name": "python3"
  },
  "language_info": {
   "codemirror_mode": {
    "name": "ipython",
    "version": 3
   },
   "file_extension": ".py",
   "mimetype": "text/x-python",
   "name": "python",
   "nbconvert_exporter": "python",
   "pygments_lexer": "ipython3",
   "version": "3.8.8"
  }
 },
 "nbformat": 4,
 "nbformat_minor": 5
}
