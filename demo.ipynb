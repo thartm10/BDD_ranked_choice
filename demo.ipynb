{
 "cells": [
  {
   "cell_type": "code",
   "execution_count": 17,
   "id": "e88f1dd2",
   "metadata": {},
   "outputs": [],
   "source": [
    "from ipynb.fs.full.RankedChoice import *\n",
    "import numpy as np"
   ]
  },
  {
   "cell_type": "code",
   "execution_count": 2,
   "id": "aa8caa5b",
   "metadata": {},
   "outputs": [],
   "source": [
    "file = 'https://raw.githubusercontent.com/thartm10/BDD_ranked_choice/main/patient_preference_list_large.csv'"
   ]
  },
  {
   "cell_type": "code",
   "execution_count": 22,
   "id": "bc717826",
   "metadata": {},
   "outputs": [],
   "source": [
    "df = convert_to_df(file)"
   ]
  },
  {
   "cell_type": "code",
   "execution_count": 4,
   "id": "c626dca3",
   "metadata": {},
   "outputs": [],
   "source": [
    "capacity_per_doctor, num_of_patients = get_capacity_and_demand(df)"
   ]
  },
  {
   "cell_type": "code",
   "execution_count": 5,
   "id": "c6886ece",
   "metadata": {},
   "outputs": [],
   "source": [
    "matched_prefs  = greedy_rank(df, capacity_per_doctor, num_of_patients)"
   ]
  },
  {
   "cell_type": "code",
   "execution_count": 21,
   "id": "d0f99474",
   "metadata": {},
   "outputs": [
    {
     "name": "stdout",
     "output_type": "stream",
     "text": [
      "247\n"
     ]
    }
   ],
   "source": [
    "cost = calcCost(matched_prefs, df)[0]\n",
    "print(cost)"
   ]
  }
 ],
 "metadata": {
  "kernelspec": {
   "display_name": "Python 3",
   "language": "python",
   "name": "python3"
  },
  "language_info": {
   "codemirror_mode": {
    "name": "ipython",
    "version": 3
   },
   "file_extension": ".py",
   "mimetype": "text/x-python",
   "name": "python",
   "nbconvert_exporter": "python",
   "pygments_lexer": "ipython3",
   "version": "3.8.8"
  }
 },
 "nbformat": 4,
 "nbformat_minor": 5
}
