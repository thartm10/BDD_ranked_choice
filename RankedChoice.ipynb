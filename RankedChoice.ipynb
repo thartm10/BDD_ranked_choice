{
  "nbformat": 4,
  "nbformat_minor": 0,
  "metadata": {
    "colab": {
      "provenance": [],
      "collapsed_sections": [],
      "include_colab_link": true
    },
    "kernelspec": {
      "name": "python3",
      "display_name": "Python 3"
    },
    "language_info": {
      "name": "python"
    }
  },
  "cells": [
    {
      "cell_type": "markdown",
      "metadata": {
        "id": "view-in-github",
        "colab_type": "text"
      },
      "source": [
        "<a href=\"https://colab.research.google.com/github/thartm10/BDD_ranked_choice/blob/main/RankedChoice.ipynb\" target=\"_parent\"><img src=\"https://colab.research.google.com/assets/colab-badge.svg\" alt=\"Open In Colab\"/></a>"
      ]
    },
    {
      "cell_type": "code",
      "source": [
        "from collections import deque\n",
        "import pandas as pd\n",
        "import statistics as stats\n",
        "import random\n",
        "\n",
        "# #url = 'https://raw.githubusercontent.com/thartm10/BDD_ranked_choice/main/patient_preference_list.csv'\n",
        "# url = 'https://raw.githubusercontent.com/thartm10/BDD_ranked_choice/main/patient_preference_list_large.csv'\n",
        "# df = pd.read_csv(url)\n",
        "\n",
        "# doctorNum, patientNum = df.shape\n",
        "# doctorCapacity = (patientNum // doctorNum) + 1\n",
        "\n",
        "\n",
        "def greedy_rank(pref_file, doctCap):\n",
        "  url = pref_file\n",
        "  df = pd.read_csv(url)\n",
        "  doctorNum, patientNum = df.shape\n",
        "  doctorCapacity = doctCap\n",
        "\n",
        "\n",
        "  matches = {}\n",
        "  for doctor in df.index:\n",
        "    matches[doctor] = set() \n",
        "  q = deque()\n",
        "\n",
        "  patientList = list(df)\n",
        "  random.shuffle(patientList)\n",
        "  for patient in patientList:\n",
        "    q.append(patient)\n",
        "\n",
        "  while len(q) != 0:\n",
        "    tentPatient = q.popleft()\n",
        "    noMatch = True\n",
        "    index = 0\n",
        "    while(noMatch):\n",
        "      tentDoc = df[tentPatient][index]\n",
        "      #if len(matches[tentDoc]) < doctorCapacities[tentDoc]:\n",
        "      if len(matches[tentDoc]) < doctorCapacity:\n",
        "        matches[tentDoc].add(tentPatient)\n",
        "        noMatch = False\n",
        "      else: #TO-DO\n",
        "        for compareMatch in matches[tentDoc]:\n",
        "          #if index == patients[compareMatch].index(tentDoc):\n",
        "          if index < list(df[compareMatch]).index(tentDoc):\n",
        "            matches[tentDoc].remove(compareMatch)\n",
        "            q.append(compareMatch)\n",
        "            matches[tentDoc].add(tentPatient)\n",
        "            noMatch = False\n",
        "            break\n",
        "      index += 1\n",
        "  return matches, patient\n",
        "\n",
        "\n",
        "def calcCost(matches, patients):\n",
        "  cost = 0\n",
        "  costList = []\n",
        "  for doctor in matches:\n",
        "    for patient in matches[doctor]:\n",
        "      cost += list(patients[patient]).index(doctor)\n",
        "      costList.append(list(patients[patient]).index(doctor))\n",
        "  return (cost,stats.median(costList))\n",
        "\n",
        "  # print(matches)\n",
        "  # print(calcCost(matches,df)[0]/patientNum)\n",
        "  # print(calcCost(matches,df)[1])"
      ],
      "metadata": {
        "id": "Au6du8UcKBUQ"
      },
      "execution_count": 47,
      "outputs": []
    },
    {
      "cell_type": "code",
      "source": [
        "from collections import deque\n",
        "import pandas as pd\n",
        "import statistics as stats\n",
        "import random\n",
        "\n",
        "url = 'https://raw.githubusercontent.com/thartm10/BDD_ranked_choice/main/patient_preference_list.csv' #Csv file that has all of the patients ranked list of doctors\n",
        "#url = 'https://raw.githubusercontent.com/thartm10/BDD_ranked_choice/main/patient_preference_list_large.csv'\n",
        "df = pd.read_csv(url) #Reads in the csv file into a pandas data frame\n",
        "\n",
        "doctorNum, patientNum = df.shape #Gets the number of doctors and patients from the number of rows and columns from the data frame\n",
        "doctorCapacity = (patientNum // doctorNum) + 2 #A way to ensure a set capacity that there is enough capacity by rounding up the number of doctors per patient\n",
        "\n",
        "matches = {} #Dictionary that maps each doctor with the patients they will be treating \n",
        "for doctor in df.index: #Populates matches with the doctors and assigns them an empty set to start\n",
        "  matches[doctor] = set() \n",
        "\n",
        "q = deque() #Queue \n",
        "\n",
        "patientList = list(df)\n",
        "random.shuffle(patientList)\n",
        "for patient in patientList:\n",
        "  q.append(patient)\n",
        "\n",
        "while len(q) != 0:\n",
        "  tentPatient = q.popleft()\n",
        "  noMatch = True\n",
        "  index = 0\n",
        "  while(noMatch):\n",
        "    tentDoc = df[tentPatient][index]\n",
        "    if len(matches[tentDoc]) < doctorCapacity:\n",
        "      matches[tentDoc].add(tentPatient)\n",
        "      noMatch = False\n",
        "    else: #TO-DO\n",
        "      for compareMatch in matches[tentDoc]:\n",
        "        #if index == patients[compareMatch].index(tentDoc):\n",
        "        if index < list(df[compareMatch]).index(tentDoc):\n",
        "          matches[tentDoc].remove(compareMatch)\n",
        "          q.append(compareMatch)\n",
        "          matches[tentDoc].add(tentPatient)\n",
        "          noMatch = False\n",
        "          break\n",
        "    index += 1\n",
        "\n",
        "def calcCost(matches, patients):\n",
        "  cost = 0\n",
        "  costList = []\n",
        "  for doctor in matches:\n",
        "    for patient in matches[doctor]:\n",
        "      cost += list(patients[patient]).index(doctor)\n",
        "      costList.append(list(patients[patient]).index(doctor))\n",
        "  return (cost,stats.median(costList))\n",
        "\n",
        "print(matches)\n",
        "print(calcCost(matches,df)[0]/patientNum)\n",
        "print(calcCost(matches,df)[1])"
      ],
      "metadata": {
        "colab": {
          "base_uri": "https://localhost:8080/"
        },
        "id": "F2FGtTfgmHnV",
        "outputId": "e9c261ca-7477-4231-e51a-d761c529a5c9"
      },
      "execution_count": 55,
      "outputs": [
        {
          "output_type": "stream",
          "name": "stdout",
          "text": [
            "{0: {'14', '7', '13', '22', '17'}, 1: {'21', '1', '3', '2'}, 2: {'0', '20', '25', '6'}, 3: {'24', '12', '23'}, 4: {'11', '18', '5', '15'}, 5: {'4', '9'}, 6: {'8', '16', '19', '10'}}\n",
            "0.0\n",
            "0.0\n"
          ]
        }
      ]
    }
  ]
}